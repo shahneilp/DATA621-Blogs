{
 "cells": [
  {
   "cell_type": "markdown",
   "metadata": {},
   "source": [
    "# Neil Shah DATA 621: Blog 5\n",
    "# Random Forest/Model Selection"
   ]
  },
  {
   "cell_type": "markdown",
   "metadata": {},
   "source": [
    "In my last [blog post](https://github.com/shahneilp/DATA621-Blogs/blob/master/Blog4--GLM%20Regression.ipynb) I used a Generalized Linear Model (Huber Regression) to deal with lack of normality in my residuals between the Ethanol and Gasoline correlation.\n",
    "\n",
    "In this final blog post we are going to put everything together, try out another Regression model (Random Forest) and then select a model via a metric.\n",
    "\n",
    "Let's go!"
   ]
  },
  {
   "cell_type": "code",
   "execution_count": 1,
   "metadata": {},
   "outputs": [],
   "source": [
    "#import our friends and data set\n",
    "import statsmodels.api as sm\n",
    "from scipy.stats import norm, shapiro\n",
    "import matplotlib.pyplot as plt\n",
    "import pandas as pd\n",
    "import numpy as np\n",
    "import math\n",
    "%matplotlib inline\n",
    "#Loading data set\n",
    "ethanol=pd.read_csv('https://raw.githubusercontent.com/shahneilp/DATA621-Blogs/master/sampledata.csv',header=0,index_col=0,parse_dates=True)\n",
    "gasoline=pd.read_csv('https://raw.githubusercontent.com/shahneilp/DATA621-Blogs/master/blog2sample.csv',header=0,index_col=0,parse_dates=True)\n",
    "#combining them\n",
    "df=pd.DataFrame(data=ethanol.copy())\n",
    "df['Gasoline']=gasoline\n",
    "df.columns=['Ethanol','Gasoline']\n",
    "#Make a clean copy of the data\n",
    "data=df.loc['02-2020':].copy()\n",
    "X=data['Gasoline'].values\n",
    "y=data['Ethanol'].values"
   ]
  },
  {
   "cell_type": "code",
   "execution_count": 2,
   "metadata": {},
   "outputs": [
    {
     "data": {
      "text/plain": [
       "Text(0.5, 1.0, 'Gasoline vs Ethanol')"
      ]
     },
     "execution_count": 2,
     "metadata": {},
     "output_type": "execute_result"
    },
    {
     "data": {
      "image/png": "[encoded data removed]",
      "text/plain": [
       "<Figure size 432x288 with 1 Axes>"
      ]
     },
     "metadata": {
      "needs_background": "light"
     },
     "output_type": "display_data"
    }
   ],
   "source": [
    "#Plotting Data\n",
    "plt.scatter(X,y)\n",
    "plt.title('Gasoline vs Ethanol')"
   ]
  },
  {
   "cell_type": "markdown",
   "metadata": {},
   "source": [
    "The previous two blogs used a Linear Regression but after reading this post [Random Forest vs Linear](https://www.quora.com/When-are-random-forests-RFs-better-than-linear-regression-models-Do-RFs-fit-nonlinear-data-better-from-the-get-go-without-a-plotting-transform-dance-Are-there-other-cases-where-I-should-use-RF-instead-of-trusty-old-linear-models) it got me thinking that maybe a Random Forest Regression model will help!\n",
    "\n",
    "Random forest is an ensemble method and can actually provide better performance since it can capture some nuances of non-linearity--if you recall from our plot above--there are some outliers and the data isn't exactly linear.\n",
    "\n",
    "Let's try the Random Forest--which is deployed very similar to the others in scikit!"
   ]
  },
  {
   "cell_type": "code",
   "execution_count": 5,
   "metadata": {},
   "outputs": [],
   "source": [
    "#Lets import Linear and Huber from last time\n",
    "from sklearn.linear_model import LinearRegression, HuberRegressor\n",
    "#And now import Random Forest\n",
    "from sklearn.ensemble import RandomForestRegressor\n",
    "from sklearn.model_selection import train_test_split"
   ]
  },
  {
   "cell_type": "markdown",
   "metadata": {},
   "source": [
    "First let's do our usual test/train split and get our R^2"
   ]
  },
  {
   "cell_type": "code",
   "execution_count": 7,
   "metadata": {},
   "outputs": [
    {
     "name": "stderr",
     "output_type": "stream",
     "text": [
      "<ipython-input-7-590ac60393ea>:5: DataConversionWarning: A column-vector y was passed when a 1d array was expected. Please change the shape of y to (n_samples,), for example using ravel().\n",
      "  rf.fit(X_train,y_train)\n"
     ]
    },
    {
     "data": {
      "text/plain": [
       "0.4474758438440295"
      ]
     },
     "execution_count": 7,
     "metadata": {},
     "output_type": "execute_result"
    }
   ],
   "source": [
    "rf=RandomForestRegressor()\n",
    "X=X.reshape(-1,1)\n",
    "y=y.reshape(-1,1)\n",
    "X_train, X_test, y_train, y_test = train_test_split(X, y, test_size=0.20)\n",
    "rf.fit(X_train,y_train)\n",
    "y_pred=rf.predict(X_test).reshape(-1,1)\n",
    "rf.score(y_pred,y_test)"
   ]
  },
  {
   "cell_type": "markdown",
   "metadata": {},
   "source": [
    "Well that wasn't the R^2 we were looking for--recall that the Huber/OLS had one of .60? Well Random Forest actually takes an input as number of trees (or nodes) to help it's decision process--let's try setting it n to 10 and see what happens"
   ]
  },
  {
   "cell_type": "code",
   "execution_count": 8,
   "metadata": {},
   "outputs": [
    {
     "name": "stderr",
     "output_type": "stream",
     "text": [
      "<ipython-input-8-9c9646d1a106>:5: DataConversionWarning: A column-vector y was passed when a 1d array was expected. Please change the shape of y to (n_samples,), for example using ravel().\n",
      "  rf.fit(X_train,y_train)\n"
     ]
    },
    {
     "data": {
      "text/plain": [
       "0.5536495978802696"
      ]
     },
     "execution_count": 8,
     "metadata": {},
     "output_type": "execute_result"
    }
   ],
   "source": [
    "rf=RandomForestRegressor(n_estimators=10)\n",
    "X=X.reshape(-1,1)\n",
    "y=y.reshape(-1,1)\n",
    "X_train, X_test, y_train, y_test = train_test_split(X, y, test_size=0.20)\n",
    "rf.fit(X_train,y_train)\n",
    "y_pred=rf.predict(X_test).reshape(-1,1)\n",
    "rf.score(y_pred,y_test)"
   ]
  },
  {
   "cell_type": "markdown",
   "metadata": {},
   "source": [
    "That helped! Let's try it again! N=20"
   ]
  },
  {
   "cell_type": "code",
   "execution_count": 10,
   "metadata": {},
   "outputs": [
    {
     "name": "stderr",
     "output_type": "stream",
     "text": [
      "<ipython-input-10-2eb535a53c9c>:5: DataConversionWarning: A column-vector y was passed when a 1d array was expected. Please change the shape of y to (n_samples,), for example using ravel().\n",
      "  rf.fit(X_train,y_train)\n"
     ]
    },
    {
     "data": {
      "text/plain": [
       "0.5375967522974503"
      ]
     },
     "execution_count": 10,
     "metadata": {},
     "output_type": "execute_result"
    }
   ],
   "source": [
    "rf=RandomForestRegressor(n_estimators=20)\n",
    "X=X.reshape(-1,1)\n",
    "y=y.reshape(-1,1)\n",
    "X_train, X_test, y_train, y_test = train_test_split(X, y, test_size=0.20)\n",
    "rf.fit(X_train,y_train)\n",
    "y_pred=rf.predict(X_test).reshape(-1,1)\n",
    "rf.score(y_pred,y_test)"
   ]
  },
  {
   "cell_type": "markdown",
   "metadata": {},
   "source": [
    "Seems increasing trees doesn't automatically mean better performance--let's try looping through a few values to see waht happens."
   ]
  },
  {
   "cell_type": "code",
   "execution_count": 12,
   "metadata": {},
   "outputs": [
    {
     "name": "stderr",
     "output_type": "stream",
     "text": [
      "<ipython-input-12-dae29e0da934>:8: DataConversionWarning: A column-vector y was passed when a 1d array was expected. Please change the shape of y to (n_samples,), for example using ravel().\n",
      "  rf.fit(X_train,y_train)\n",
      "<ipython-input-12-dae29e0da934>:8: DataConversionWarning: A column-vector y was passed when a 1d array was expected. Please change the shape of y to (n_samples,), for example using ravel().\n",
      "  rf.fit(X_train,y_train)\n",
      "<ipython-input-12-dae29e0da934>:8: DataConversionWarning: A column-vector y was passed when a 1d array was expected. Please change the shape of y to (n_samples,), for example using ravel().\n",
      "  rf.fit(X_train,y_train)\n",
      "<ipython-input-12-dae29e0da934>:8: DataConversionWarning: A column-vector y was passed when a 1d array was expected. Please change the shape of y to (n_samples,), for example using ravel().\n",
      "  rf.fit(X_train,y_train)\n",
      "<ipython-input-12-dae29e0da934>:8: DataConversionWarning: A column-vector y was passed when a 1d array was expected. Please change the shape of y to (n_samples,), for example using ravel().\n",
      "  rf.fit(X_train,y_train)\n"
     ]
    },
    {
     "name": "stdout",
     "output_type": "stream",
     "text": [
      "{10: 0.5876280947633221, 20: 0.6192696264477805, 30: 0.6267531453978322, 40: 0.31355831303561577, 50: 0.6833787559933299}\n"
     ]
    }
   ],
   "source": [
    "trees=range(10,60,10)\n",
    "score=[]\n",
    "for n in trees:\n",
    "    rf=RandomForestRegressor(n_estimators=n)\n",
    "    X=X.reshape(-1,1)\n",
    "    y=y.reshape(-1,1)\n",
    "    X_train, X_test, y_train, y_test = train_test_split(X, y, test_size=0.20)\n",
    "    rf.fit(X_train,y_train)\n",
    "    y_pred=rf.predict(X_test).reshape(-1,1)\n",
    "    score.append(rf.score(y_pred,y_test))\n",
    "print(dict(zip(trees,score)))"
   ]
  },
  {
   "cell_type": "markdown",
   "metadata": {},
   "source": [
    "Let's run it one more time to get consistency"
   ]
  },
  {
   "cell_type": "code",
   "execution_count": 13,
   "metadata": {},
   "outputs": [
    {
     "name": "stderr",
     "output_type": "stream",
     "text": [
      "<ipython-input-13-dae29e0da934>:8: DataConversionWarning: A column-vector y was passed when a 1d array was expected. Please change the shape of y to (n_samples,), for example using ravel().\n",
      "  rf.fit(X_train,y_train)\n",
      "<ipython-input-13-dae29e0da934>:8: DataConversionWarning: A column-vector y was passed when a 1d array was expected. Please change the shape of y to (n_samples,), for example using ravel().\n",
      "  rf.fit(X_train,y_train)\n",
      "<ipython-input-13-dae29e0da934>:8: DataConversionWarning: A column-vector y was passed when a 1d array was expected. Please change the shape of y to (n_samples,), for example using ravel().\n",
      "  rf.fit(X_train,y_train)\n",
      "<ipython-input-13-dae29e0da934>:8: DataConversionWarning: A column-vector y was passed when a 1d array was expected. Please change the shape of y to (n_samples,), for example using ravel().\n",
      "  rf.fit(X_train,y_train)\n",
      "<ipython-input-13-dae29e0da934>:8: DataConversionWarning: A column-vector y was passed when a 1d array was expected. Please change the shape of y to (n_samples,), for example using ravel().\n",
      "  rf.fit(X_train,y_train)\n"
     ]
    },
    {
     "name": "stdout",
     "output_type": "stream",
     "text": [
      "{10: 0.4963638957704988, 20: 0.5190646173912428, 30: 0.4682229993084722, 40: 0.4932109725850028, 50: 0.5182208861301763}\n"
     ]
    }
   ],
   "source": [
    "trees=range(10,60,10)\n",
    "score=[]\n",
    "for n in trees:\n",
    "    rf=RandomForestRegressor(n_estimators=n)\n",
    "    X=X.reshape(-1,1)\n",
    "    y=y.reshape(-1,1)\n",
    "    X_train, X_test, y_train, y_test = train_test_split(X, y, test_size=0.20)\n",
    "    rf.fit(X_train,y_train)\n",
    "    y_pred=rf.predict(X_test).reshape(-1,1)\n",
    "    score.append(rf.score(y_pred,y_test))\n",
    "print(dict(zip(trees,score)))"
   ]
  },
  {
   "cell_type": "markdown",
   "metadata": {},
   "source": [
    "So it seems 20 and 50 give the best results--let's just go with 50 more nodes!"
   ]
  },
  {
   "cell_type": "markdown",
   "metadata": {},
   "source": [
    "So now that we have three models--OLS, Huber and Random Forest how do we choose one? Well we could go with R^2 but that tends to be just the correlation, it doesn't tell us how well our data does predictively.\n",
    "\n",
    "I read about using the [RMSE](https://www.vernier.com/til/1014) or Root Mean Squared Error which is an error metric in units of our Y (or ethanol price) and how far it deviates. Since our goal is to predict ethanol pricess based on gasoline, this makes sense.\n",
    "\n",
    "I will now re-test ALL of our models (OLD, Huber and Random Forest with n=50) and use the metric RMSE to determine the best model!"
   ]
  },
  {
   "cell_type": "code",
   "execution_count": 14,
   "metadata": {},
   "outputs": [],
   "source": [
    "#First let's import RMSE\n",
    "from sklearn.metrics import mean_squared_error"
   ]
  },
  {
   "cell_type": "code",
   "execution_count": 17,
   "metadata": {},
   "outputs": [
    {
     "name": "stderr",
     "output_type": "stream",
     "text": [
      "c:\\users\\neil\\appdata\\local\\programs\\python\\python38-32\\lib\\site-packages\\sklearn\\utils\\validation.py:72: DataConversionWarning: A column-vector y was passed when a 1d array was expected. Please change the shape of y to (n_samples, ), for example using ravel().\n",
      "  return f(**kwargs)\n",
      "<ipython-input-17-f5c4332688af>:14: DataConversionWarning: A column-vector y was passed when a 1d array was expected. Please change the shape of y to (n_samples,), for example using ravel().\n",
      "  model.fit(X_train,y_train)\n"
     ]
    },
    {
     "name": "stdout",
     "output_type": "stream",
     "text": [
      "{'OLS': 0.07463238163198939, 'Huber': 0.07636211908630099, 'Random Forest': 0.04957398132258887}\n"
     ]
    }
   ],
   "source": [
    "#Set up our test train splits \n",
    "X=X.reshape(-1,1)\n",
    "y=y.reshape(-1,1)\n",
    "X_train, X_test, y_train, y_test = train_test_split(X, y, test_size=0.20)\n",
    "#Set up model dictionary\n",
    "#define models\n",
    "rf=RandomForestRegressor(n_estimators=50)\n",
    "lm=LinearRegression()\n",
    "hm=HuberRegressor()\n",
    "modelnames=['OLS','Huber','Random Forest']\n",
    "models=[lm,hm,rf]\n",
    "rmse=[]\n",
    "for model in models:\n",
    "    model.fit(X_train,y_train)\n",
    "    y_pred=model.predict(X_test)\n",
    "    rmse.append(mean_squared_error(y_test,y_pred,squared=False))\n",
    "print(dict(zip(modelnames,rmse)))"
   ]
  },
  {
   "cell_type": "markdown",
   "metadata": {},
   "source": [
    "Here are the results--so using our OLS our predictions will be off around .075 cents, Huber 0.076 cents and for Random Forest--only .049 cents--meaning Random Forest is the winner!\n",
    "\n",
    "Let's just do a quick gut check on whether that error is acceptable by comparing the standard deviation of differences"
   ]
  },
  {
   "cell_type": "code",
   "execution_count": 24,
   "metadata": {},
   "outputs": [
    {
     "data": {
      "text/plain": [
       "0.03682508463386553"
      ]
     },
     "execution_count": 24,
     "metadata": {},
     "output_type": "execute_result"
    }
   ],
   "source": [
    "np.std(np.diff(y,axis=0))"
   ]
  },
  {
   "cell_type": "markdown",
   "metadata": {},
   "source": [
    "So the average difference in our ethano prices is .036 cents, and our error in our model is around .049 cents...\n",
    "\n",
    "Oh no--while our model gives us a better estimate, it's still more than our standard deviation in changes in ethanol prices.\n",
    "\n",
    "While this means maybe we need to refine it before we trade--this blog showed how to test a model in real world!\n",
    "\n",
    "Hope you enjoyed!"
   ]
  }
 ],
 "metadata": {
  "kernelspec": {
   "display_name": "Python 3",
   "language": "python",
   "name": "python3"
  },
  "language_info": {
   "codemirror_mode": {
    "name": "ipython",
    "version": 3
   },
   "file_extension": ".py",
   "mimetype": "text/x-python",
   "name": "python",
   "nbconvert_exporter": "python",
   "pygments_lexer": "ipython3",
   "version": "3.8.2"
  }
 },
 "nbformat": 4,
 "nbformat_minor": 4
}
